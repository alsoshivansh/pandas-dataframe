{
 "cells": [
  {
   "cell_type": "markdown",
   "id": "ac1273ef",
   "metadata": {},
   "source": [
    "# Pandas DataFrame merge() Method"
   ]
  },
  {
   "cell_type": "code",
   "execution_count": 1,
   "id": "813777f2",
   "metadata": {},
   "outputs": [],
   "source": [
    "#Update the content of one DataFrame with the content from another DataFrame:\n",
    "\n",
    "import pandas as pd\n",
    "\n",
    "data1 = {\n",
    "  \"name\": [\"Sally\", \"Mary\", \"John\"],\n",
    "  \"age\": [50, 40, 30]\n",
    "}\n",
    "\n",
    "data2 = {\n",
    "  \"name\": [\"Sally\", \"Peter\", \"Micky\"],\n",
    "  \"age\": [77, 44, 22]\n",
    "}\n",
    "\n",
    "df1 = pd.DataFrame(data1)\n",
    "df2 = pd.DataFrame(data2)\n",
    "\n",
    "newdf = df1.merge(df2, how='right')"
   ]
  },
  {
   "cell_type": "markdown",
   "id": "ec5e82f3",
   "metadata": {},
   "source": [
    "# Definition and Usage\n",
    "The merge() method updates the content of two DataFrame by merging them together, \n",
    "\n",
    "using the specified method(s).\n",
    "\n",
    "Use the parameters to control which values to keep and which to replace."
   ]
  },
  {
   "cell_type": "markdown",
   "id": "98cdca01",
   "metadata": {},
   "source": [
    "# syntax\n",
    "\n",
    "dataframe.merge(right, how, on, left_on, right_on, left_index, right_index, sort, suffixes, copy, indicator, validate)"
   ]
  },
  {
   "cell_type": "markdown",
   "id": "92cf2793",
   "metadata": {},
   "source": [
    "https://www.w3schools.com/python/pandas/ref_df_merge.asp"
   ]
  },
  {
   "cell_type": "code",
   "execution_count": null,
   "id": "63f1ca1b",
   "metadata": {},
   "outputs": [],
   "source": []
  },
  {
   "cell_type": "code",
   "execution_count": null,
   "id": "0667b7b2",
   "metadata": {},
   "outputs": [],
   "source": []
  }
 ],
 "metadata": {
  "kernelspec": {
   "display_name": "Python 3 (ipykernel)",
   "language": "python",
   "name": "python3"
  },
  "language_info": {
   "codemirror_mode": {
    "name": "ipython",
    "version": 3
   },
   "file_extension": ".py",
   "mimetype": "text/x-python",
   "name": "python",
   "nbconvert_exporter": "python",
   "pygments_lexer": "ipython3",
   "version": "3.11.4"
  }
 },
 "nbformat": 4,
 "nbformat_minor": 5
}
